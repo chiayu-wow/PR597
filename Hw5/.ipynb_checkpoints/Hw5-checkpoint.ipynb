{
 "cells": [
  {
   "cell_type": "code",
   "execution_count": 5,
   "id": "initial_id",
   "metadata": {
    "ExecuteTime": {
     "end_time": "2024-10-12T22:19:21.418937Z",
     "start_time": "2024-10-12T22:19:20.041738Z"
    }
   },
   "outputs": [
    {
     "name": "stdout",
     "output_type": "stream",
     "text": [
      "       WHOREGION FLUSEASON HEMISPHERE            ITZ COUNTRY_CODE  \\\n",
      "0           SEAR        YR         NH   FLU_STH_ASIA          BGD   \n",
      "1            WPR        YR         NH   FLU_EST_ASIA          CHN   \n",
      "2           SEAR        YR         NH   FLU_STH_ASIA          LKA   \n",
      "3           SEAR        YR         NH   FLU_STH_ASIA          IND   \n",
      "4            AMR        YR         NH    FLU_CNT_AMC          MEX   \n",
      "...          ...       ...        ...            ...          ...   \n",
      "148171       AMR        YR         NH    FLU_CNT_AMC          BRB   \n",
      "148172       EUR        NH         NH    FLU_EST_EUR          BGR   \n",
      "148173       AMR        SH         SH  FLU_TEMP_SAMR          ARG   \n",
      "148174       EUR        NH         NH     FLU_SW_EUR          GRC   \n",
      "148175       AMR        YR         NH    FLU_CNT_AMC          TTO   \n",
      "\n",
      "       COUNTRY_AREA_TERRITORY ISO_WEEKSTARTDATE  ISO_YEAR  ISO_WEEK  \\\n",
      "0                  Bangladesh        2012-12-31      2013         1   \n",
      "1                       China        2012-08-20      2012        34   \n",
      "2                   Sri Lanka        2015-09-28      2015        40   \n",
      "3                       India        2011-12-05      2011        49   \n",
      "4                      Mexico        2022-03-28      2022        13   \n",
      "...                       ...               ...       ...       ...   \n",
      "148171               Barbados        2016-06-13      2016        24   \n",
      "148172               Bulgaria        2013-09-16      2013        38   \n",
      "148173              Argentina        2005-01-17      2005         3   \n",
      "148174                 Greece        2009-01-05      2009         2   \n",
      "148175    Trinidad and Tobago        2023-04-10      2023        15   \n",
      "\n",
      "       MMWR_WEEKSTARTDATE  ...  PARAINFLUENZA  RHINO  RSV  OTHERRESPVIRUS  \\\n",
      "0              2012-12-30  ...            NaN    NaN  NaN             NaN   \n",
      "1              2012-08-19  ...            NaN    NaN  NaN             NaN   \n",
      "2              2015-09-27  ...            NaN    NaN  NaN             NaN   \n",
      "3              2011-12-04  ...            NaN    NaN  NaN             NaN   \n",
      "4              2022-03-27  ...            NaN    NaN  NaN             NaN   \n",
      "...                   ...  ...            ...    ...  ...             ...   \n",
      "148171         2016-06-12  ...            NaN    NaN  NaN             NaN   \n",
      "148172         2013-09-15  ...            NaN    NaN  0.0             NaN   \n",
      "148173         2005-01-16  ...            NaN    NaN  NaN             NaN   \n",
      "148174         2009-01-04  ...            NaN    NaN  NaN             NaN   \n",
      "148175         2023-04-09  ...            NaN    NaN  NaN             NaN   \n",
      "\n",
      "        OTHER_RESPVIRUS_DETAILS  LAB_RESULT_COMMENT  \\\n",
      "0                           NaN                 NaN   \n",
      "1                           NaN                 NaN   \n",
      "2                           NaN                 NaN   \n",
      "3                           NaN                 NaN   \n",
      "4                           NaN                 NaN   \n",
      "...                         ...                 ...   \n",
      "148171                      NaN                 NaN   \n",
      "148172                      RSV                 NaN   \n",
      "148173                      NaN                 NaN   \n",
      "148174                      NaN                 NaN   \n",
      "148175                      NaN                 NaN   \n",
      "\n",
      "                                              WCR_COMMENT  ISO2   ISOYW  \\\n",
      "0                                                     NaN    BD  201301   \n",
      "1       ILI% in south of China in this week£º3.20%    ...    CN  201234   \n",
      "2                                                     NaN    LK  201540   \n",
      "3                                                     NaN    IN  201149   \n",
      "4                                                     NaN    MX  202213   \n",
      "...                                                   ...   ...     ...   \n",
      "148171                                                NaN    BB  201624   \n",
      "148172                                                NaN    BG  201338   \n",
      "148173                                                NaN    AR  200503   \n",
      "148174                                         type A(H3)    GR  200902   \n",
      "148175                                                NaN    TT  202315   \n",
      "\n",
      "        MMWRYW  \n",
      "0       201301  \n",
      "1       201234  \n",
      "2       201539  \n",
      "3       201149  \n",
      "4       202213  \n",
      "...        ...  \n",
      "148171  201624  \n",
      "148172  201338  \n",
      "148173  200503  \n",
      "148174  200902  \n",
      "148175  202315  \n",
      "\n",
      "[148176 rows x 49 columns]\n"
     ]
    }
   ],
   "source": [
    "import pandas as pd\n",
    "\n",
    "data = pd.read_csv('data/VIW_FNT.csv')\n",
    "\n",
    "print(data)"
   ]
  },
  {
   "cell_type": "markdown",
   "id": "59de31a4246f8e80",
   "metadata": {},
   "source": [
    "turn CSV to a python dataframe"
   ]
  },
  {
   "cell_type": "code",
   "execution_count": null,
   "id": "f7d45625d4f1ac8f",
   "metadata": {},
   "outputs": [],
   "source": [
    "\n"
   ]
  }
 ],
 "metadata": {
  "kernelspec": {
   "display_name": "Python 3 (ipykernel)",
   "language": "python",
   "name": "python3"
  },
  "language_info": {
   "codemirror_mode": {
    "name": "ipython",
    "version": 3
   },
   "file_extension": ".py",
   "mimetype": "text/x-python",
   "name": "python",
   "nbconvert_exporter": "python",
   "pygments_lexer": "ipython3",
   "version": "3.7.9"
  }
 },
 "nbformat": 4,
 "nbformat_minor": 5
}
